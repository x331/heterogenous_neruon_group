{
 "cells": [
  {
   "cell_type": "code",
   "execution_count": 9,
   "metadata": {},
   "outputs": [
    {
     "name": "stderr",
     "output_type": "stream",
     "text": [
      "Traceback (most recent call last):\n",
      "  File \"c:\\Users\\sasah\\Downloads\\heterogenous_neruon_group\\quicknets-master\\early_exit\\vgg\\train.py\", line 12, in <module>\n",
      "    from datasets import IndexedCIFAR10, IndexedCIFAR100\n",
      "ModuleNotFoundError: No module named 'datasets'\n"
     ]
    }
   ],
   "source": [
    "!python quicknets-master/early_exit/vgg/train.py --seed 0 --save_params --config 'D' --lr .003 --batch_norm"
   ]
  },
  {
   "cell_type": "code",
   "execution_count": null,
   "metadata": {},
   "outputs": [],
   "source": []
  }
 ],
 "metadata": {
  "kernelspec": {
   "display_name": "Python 3",
   "language": "python",
   "name": "python3"
  },
  "language_info": {
   "codemirror_mode": {
    "name": "ipython",
    "version": 3
   },
   "file_extension": ".py",
   "mimetype": "text/x-python",
   "name": "python",
   "nbconvert_exporter": "python",
   "pygments_lexer": "ipython3",
   "version": "3.10.2"
  }
 },
 "nbformat": 4,
 "nbformat_minor": 2
}
